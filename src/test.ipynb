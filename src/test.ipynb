{
 "cells": [
  {
   "cell_type": "code",
   "execution_count": 1,
   "metadata": {},
   "outputs": [
    {
     "name": "stdout",
     "output_type": "stream",
     "text": [
      "['A']\n",
      "DataFrame 1 (Restricted to Overlapping Columns):\n",
      "   A\n",
      "0  1\n",
      "1  2\n",
      "2  3\n",
      "3  4\n",
      "\n",
      "DataFrame 2 (Restricted to Overlapping Columns):\n",
      "     A\n",
      "0  300\n",
      "1  400\n",
      "2  500\n",
      "3  600\n",
      "\n",
      "DataFrame 3 (Restricted to Overlapping Columns):\n",
      "   A\n",
      "0  5\n",
      "1  6\n",
      "2  7\n",
      "3  8\n",
      "\n"
     ]
    }
   ],
   "source": [
    "import pandas as pd\n",
    "\n",
    "def find_overlapping_columns(*dataframes):\n",
    "    # Ensure that at least two DataFrames are provided\n",
    "    if len(dataframes) < 2:\n",
    "        raise ValueError(\"At least two DataFrames are required for finding overlaps.\")\n",
    "\n",
    "    # Get the columns of the first DataFrame\n",
    "    overlapping_columns = set(dataframes[0].columns)\n",
    "\n",
    "    # Find the intersection of columns with each subsequent DataFrame\n",
    "    for df in dataframes[1:]:\n",
    "        overlapping_columns = overlapping_columns.intersection(df.columns)\n",
    "\n",
    "    return list(overlapping_columns)\n",
    "\n",
    "def restrict_to_overlapping_columns(*dataframes):\n",
    "    # Find the overlapping columns among all DataFrames\n",
    "    overlapping_columns = find_overlapping_columns(*dataframes)\n",
    "    print(overlapping_columns)\n",
    "    # Restrict each DataFrame to the overlapping columns\n",
    "    restricted_dataframes = []\n",
    "    for df in dataframes:\n",
    "        restricted_df = df[overlapping_columns]\n",
    "        restricted_dataframes.append(restricted_df)\n",
    "\n",
    "    return restricted_dataframes\n",
    "\n",
    "# Example usage:\n",
    "# Create three sample DataFrames with different columns\n",
    "df1 = pd.DataFrame({'A': [1, 2, 3, 4], 'B': [10, 20, 30, 40]})\n",
    "df2 = pd.DataFrame({'B': [3, 4, 5, 6], 'A': [300, 400, 500, 600]})\n",
    "df3 = pd.DataFrame({'A': [5, 6, 7, 8], 'C': [700, 800, 900, 1000]})\n",
    "\n",
    "# Create a list of DataFrames\n",
    "dataframes = [df1, df2, df3]\n",
    "\n",
    "# Restrict DataFrames to overlapping columns\n",
    "restricted_dataframes = restrict_to_overlapping_columns(*dataframes)\n",
    "\n",
    "# Print restricted DataFrames\n",
    "for i, df in enumerate(restricted_dataframes):\n",
    "    print(f\"DataFrame {i+1} (Restricted to Overlapping Columns):\\n{df}\\n\")\n"
   ]
  },
  {
   "cell_type": "code",
   "execution_count": 3,
   "metadata": {},
   "outputs": [
    {
     "data": {
      "text/html": [
       "<div>\n",
       "<style scoped>\n",
       "    .dataframe tbody tr th:only-of-type {\n",
       "        vertical-align: middle;\n",
       "    }\n",
       "\n",
       "    .dataframe tbody tr th {\n",
       "        vertical-align: top;\n",
       "    }\n",
       "\n",
       "    .dataframe thead th {\n",
       "        text-align: right;\n",
       "    }\n",
       "</style>\n",
       "<table border=\"1\" class=\"dataframe\">\n",
       "  <thead>\n",
       "    <tr style=\"text-align: right;\">\n",
       "      <th></th>\n",
       "      <th>B</th>\n",
       "      <th>A</th>\n",
       "    </tr>\n",
       "  </thead>\n",
       "  <tbody>\n",
       "    <tr>\n",
       "      <th>0</th>\n",
       "      <td>3</td>\n",
       "      <td>300</td>\n",
       "    </tr>\n",
       "    <tr>\n",
       "      <th>1</th>\n",
       "      <td>4</td>\n",
       "      <td>400</td>\n",
       "    </tr>\n",
       "    <tr>\n",
       "      <th>2</th>\n",
       "      <td>5</td>\n",
       "      <td>500</td>\n",
       "    </tr>\n",
       "    <tr>\n",
       "      <th>3</th>\n",
       "      <td>6</td>\n",
       "      <td>600</td>\n",
       "    </tr>\n",
       "  </tbody>\n",
       "</table>\n",
       "</div>"
      ],
      "text/plain": [
       "   B    A\n",
       "0  3  300\n",
       "1  4  400\n",
       "2  5  500\n",
       "3  6  600"
      ]
     },
     "execution_count": 3,
     "metadata": {},
     "output_type": "execute_result"
    }
   ],
   "source": [
    "def temp():\n",
    "    return [df1, df2, df3]\n",
    "\n",
    "[a,b,c] = temp()\n",
    "\n",
    "b\n"
   ]
  },
  {
   "cell_type": "code",
   "execution_count": 4,
   "metadata": {},
   "outputs": [
    {
     "name": "stdout",
     "output_type": "stream",
     "text": [
      "Converted Value: yellow\n",
      "Converted List: ['red', 'yellow', 'kiwi']\n"
     ]
    }
   ],
   "source": [
    "def convert_values(input_value, value1_list, value2_list):\n",
    "    if isinstance(input_value, list):\n",
    "        # If input_value is a list, convert each element\n",
    "        converted_list = [value2_list[value1_list.index(item)] if item in value1_list else item for item in input_value]\n",
    "        return converted_list\n",
    "    else:\n",
    "        # If input_value is a single value, convert it\n",
    "        if input_value in value1_list:\n",
    "            index = value1_list.index(input_value)\n",
    "            return value2_list[index]\n",
    "        else:\n",
    "            # Return the input_value unchanged if not found in value1_list\n",
    "            return input_value\n",
    "\n",
    "# Example usage:\n",
    "value1_list = ['apple', 'banana', 'cherry']\n",
    "value2_list = ['red', 'yellow', 'red']\n",
    "\n",
    "# Convert a single value\n",
    "converted_value = convert_values('banana', value1_list, value2_list)\n",
    "print(f\"Converted Value: {converted_value}\")\n",
    "\n",
    "# Convert a list of values\n",
    "input_list = ['apple', 'banana', 'kiwi']\n",
    "converted_list = convert_values(input_list, value1_list, value2_list)\n",
    "print(f\"Converted List: {converted_list}\")\n"
   ]
  },
  {
   "cell_type": "code",
   "execution_count": 6,
   "metadata": {},
   "outputs": [
    {
     "name": "stdout",
     "output_type": "stream",
     "text": [
      "Converted Value: yellow\n",
      "Converted List: ['red', 'yellow', 'kiwi']\n"
     ]
    }
   ],
   "source": [
    "def convert_values(input_value, from_list, to_list):\n",
    "    \"\"\"\n",
    "    # Example usage (same as before):\n",
    "    from_list = ['apple', 'banana', 'cherry']\n",
    "    to_list = ['red', 'yellow', 'red']\n",
    "\n",
    "    # Convert a single value\n",
    "    converted_value = convert_values('banana', from_list, to_list)\n",
    "    print(f\"Converted Value: {converted_value}\") \n",
    "    Converted Value: 'yellow'\n",
    "\n",
    "    # Convert a list of values\n",
    "    input_list = ['apple', 'banana', 'kiwi']\n",
    "    converted_list = convert_values(input_list, from_list, to_list)\n",
    "    print(f\"Converted List: {converted_list}\")\n",
    "    > Converted List: ['red', 'yellow', 'kiwi']\n",
    "    \"\"\"\n",
    "    # logging.info(\"Converting input by creating a dictionary to map values\")\n",
    "    value_mapping = dict(zip(from_list, to_list))\n",
    "\n",
    "    if isinstance(input_value, list):\n",
    "        # logging.debug(\"If input_value is a list, convert each element\")\n",
    "        return list(map(lambda x: value_mapping.get(x, x), input_value))\n",
    "    else:\n",
    "        # logging.debug(\"If input_value is a single value, convert it\")\n",
    "        return value_mapping.get(input_value, input_value)\n",
    "    \n",
    "# Example usage (same as before):\n",
    "value1_list = ['apple', 'banana', 'cherry']\n",
    "value2_list = ['red', 'yellow', 'red']\n",
    "\n",
    "# Convert a single value\n",
    "converted_value = convert_values('banana', value1_list, value2_list)\n",
    "print(f\"Converted Value: {converted_value}\")\n",
    "\n",
    "# Convert a list of values\n",
    "input_list = ['apple', 'banana', 'kiwi']\n",
    "converted_list = convert_values(input_list, value1_list, value2_list)\n",
    "print(f\"Converted List: {converted_list}\")"
   ]
  },
  {
   "cell_type": "code",
   "execution_count": 19,
   "metadata": {},
   "outputs": [
    {
     "name": "stdout",
     "output_type": "stream",
     "text": [
      "[nan]\n",
      "['red', 'yellow', nan]\n"
     ]
    }
   ],
   "source": [
    "import numpy as np\n",
    "def convert_with_tracking(input_value, from_list, to_list):\n",
    "    \"\"\"\n",
    "    # Example usage:\n",
    "    value1_list = ['apple', 'banana', 'cherry']\n",
    "    value2_list = ['red', 'yellow', 'red']\n",
    "\n",
    "    # Convert a single value\n",
    "    conversion_result = convert_values('kiwi', value1_list, value2_list)\n",
    "    print(f\"Converted List: {conversion_result}\")\n",
    "    # > Converted List: 'yellow'\n",
    "    # Convert a list of values\n",
    "    input_list = ['apple', 'banana', 'kiwi']\n",
    "    conversion_result = convert_values(input_list, value1_list, value2_list)\n",
    "    print(f\"Converted List: {conversion_result}\")\n",
    "    # > Converted List: ['red', 'yellow', 'kiwi']\n",
    "    \"\"\"\n",
    "\n",
    "    logging.debug(\"Ensure from_list and to_list have the same length\")\n",
    "    if len(from_list) != len(to_list):\n",
    "        raise ValueError(\"Input lists must have the same length.\")\n",
    "\n",
    "    logging.info(\"Converting input by creating a dictionary to map values from 'from_list' to 'to_list'\")\n",
    "    value_mapping = dict(zip(from_list, to_list))\n",
    "\n",
    "    logging.debug(\"Initialize lists to track converted and unconverted items\")\n",
    "    converted_items = []\n",
    "    unconverted_items = []\n",
    "\n",
    "    if isinstance(input_value, list):\n",
    "        logging.debug(\"If input_value is a list, convert each element\")\n",
    "        for item in input_value:\n",
    "            converted_value = value_mapping.get(item, None)\n",
    "            if converted_value is not None:\n",
    "                converted_items.append(converted_value)\n",
    "            else:\n",
    "                converted_items.append(np.nan)\n",
    "                unconverted_items.append(item)\n",
    "    else:\n",
    "        logging.debug(\"If input_value is a single value, convert it\")\n",
    "        converted_value = value_mapping.get(input_value, None)\n",
    "        if converted_value is not None:\n",
    "            converted_items.append(converted_value)\n",
    "        else:\n",
    "            converted_items.append(np.nan)\n",
    "            unconverted_items.append(input_value)\n",
    "\n",
    "    logging.debug(\"{len(converted_items)} converted: {converted_items}\")\n",
    "    logging.debug(\"{len(unconverted_items)} unconverted: {unconverted_items}\")\n",
    "    return converted_items\n",
    "\n",
    "# Example usage:\n",
    "value1_list = ['apple', 'banana', 'cherry']\n",
    "value2_list = ['red', 'yellow', 'red']\n",
    "\n",
    "# Convert a single value\n",
    "conversion_result = convert_with_tracking('kiwi', value1_list, value2_list)\n",
    "print(conversion_result)\n",
    "# Convert a list of values\n",
    "input_list = ['apple', 'banana', 'kiwi']\n",
    "conversion_result = convert_with_tracking(input_list, value1_list, value2_list)\n",
    "print(conversion_result)\n"
   ]
  },
  {
   "cell_type": "code",
   "execution_count": 22,
   "metadata": {},
   "outputs": [
    {
     "name": "stdout",
     "output_type": "stream",
     "text": [
      "Original DataFrame:\n",
      "      A\n",
      "NaN   1\n",
      "row2  2\n",
      "row3  3\n",
      "None  4\n",
      "row5  5\n",
      "\n",
      "DataFrame after dropping rows with missing index values:\n",
      "      A\n",
      "row2  2\n",
      "row3  3\n",
      "row5  5\n"
     ]
    }
   ],
   "source": [
    "import pandas as pd\n",
    "import numpy as np\n",
    "def drop_na_index_rows(df):\n",
    "    \"\"\"\n",
    "    Drop rows with missing (NaN) index values from a pandas DataFrame.\n",
    "    \n",
    "    Parameters:\n",
    "    df (pd.DataFrame): The DataFrame from which to drop rows with missing index values.\n",
    "    \n",
    "    Returns:\n",
    "    pd.DataFrame: A new DataFrame with rows containing missing index values removed.\n",
    "    \"\"\"\n",
    "    # Use boolean indexing to drop rows with NaN index values\n",
    "    cleaned_df = df[~df.index.isna()]\n",
    "    \n",
    "    return cleaned_df\n",
    "\n",
    "# Example usage:\n",
    "data = {'A': [1, 2, 3, 4, 5]}\n",
    "index_values = [np.nan, 'row2', 'row3', None, 'row5']\n",
    "df = pd.DataFrame(data, index=index_values)\n",
    "\n",
    "# Drop rows with missing index values from the DataFrame\n",
    "cleaned_df = drop_na_index_rows(df)\n",
    "\n",
    "print(\"Original DataFrame:\")\n",
    "print(df)\n",
    "\n",
    "print(\"\\nDataFrame after dropping rows with missing index values:\")\n",
    "print(cleaned_df)\n"
   ]
  },
  {
   "cell_type": "code",
   "execution_count": 26,
   "metadata": {},
   "outputs": [
    {
     "data": {
      "text/plain": [
       "pandas.core.series.Series"
      ]
     },
     "execution_count": 26,
     "metadata": {},
     "output_type": "execute_result"
    }
   ],
   "source": [
    "type(df3['A'].value_counts())"
   ]
  },
  {
   "cell_type": "code",
   "execution_count": 27,
   "metadata": {},
   "outputs": [
    {
     "data": {
      "text/plain": [
       "pandas.core.series.Series"
      ]
     },
     "execution_count": 27,
     "metadata": {},
     "output_type": "execute_result"
    }
   ],
   "source": [
    "type(df3.A.value_counts())"
   ]
  },
  {
   "cell_type": "code",
   "execution_count": 29,
   "metadata": {},
   "outputs": [
    {
     "data": {
      "text/html": [
       "<div>\n",
       "<style scoped>\n",
       "    .dataframe tbody tr th:only-of-type {\n",
       "        vertical-align: middle;\n",
       "    }\n",
       "\n",
       "    .dataframe tbody tr th {\n",
       "        vertical-align: top;\n",
       "    }\n",
       "\n",
       "    .dataframe thead th {\n",
       "        text-align: right;\n",
       "    }\n",
       "</style>\n",
       "<table border=\"1\" class=\"dataframe\">\n",
       "  <thead>\n",
       "    <tr style=\"text-align: right;\">\n",
       "      <th></th>\n",
       "      <th>C</th>\n",
       "    </tr>\n",
       "    <tr>\n",
       "      <th>A</th>\n",
       "      <th></th>\n",
       "    </tr>\n",
       "  </thead>\n",
       "  <tbody>\n",
       "    <tr>\n",
       "      <th>5</th>\n",
       "      <td>700</td>\n",
       "    </tr>\n",
       "    <tr>\n",
       "      <th>6</th>\n",
       "      <td>800</td>\n",
       "    </tr>\n",
       "    <tr>\n",
       "      <th>7</th>\n",
       "      <td>900</td>\n",
       "    </tr>\n",
       "    <tr>\n",
       "      <th>8</th>\n",
       "      <td>1000</td>\n",
       "    </tr>\n",
       "  </tbody>\n",
       "</table>\n",
       "</div>"
      ],
      "text/plain": [
       "      C\n",
       "A      \n",
       "5   700\n",
       "6   800\n",
       "7   900\n",
       "8  1000"
      ]
     },
     "execution_count": 29,
     "metadata": {},
     "output_type": "execute_result"
    }
   ],
   "source": [
    "df3.set_index('A').loc[:, ['C']]"
   ]
  },
  {
   "cell_type": "code",
   "execution_count": 40,
   "metadata": {},
   "outputs": [
    {
     "data": {
      "text/html": [
       "<div>\n",
       "<style scoped>\n",
       "    .dataframe tbody tr th:only-of-type {\n",
       "        vertical-align: middle;\n",
       "    }\n",
       "\n",
       "    .dataframe tbody tr th {\n",
       "        vertical-align: top;\n",
       "    }\n",
       "\n",
       "    .dataframe thead th {\n",
       "        text-align: right;\n",
       "    }\n",
       "</style>\n",
       "<table border=\"1\" class=\"dataframe\">\n",
       "  <thead>\n",
       "    <tr style=\"text-align: right;\">\n",
       "      <th></th>\n",
       "      <th>C</th>\n",
       "    </tr>\n",
       "    <tr>\n",
       "      <th>A</th>\n",
       "      <th></th>\n",
       "    </tr>\n",
       "  </thead>\n",
       "  <tbody>\n",
       "    <tr>\n",
       "      <th>5</th>\n",
       "      <td>700</td>\n",
       "    </tr>\n",
       "    <tr>\n",
       "      <th>6</th>\n",
       "      <td>800</td>\n",
       "    </tr>\n",
       "    <tr>\n",
       "      <th>7</th>\n",
       "      <td>900</td>\n",
       "    </tr>\n",
       "    <tr>\n",
       "      <th>8</th>\n",
       "      <td>1000</td>\n",
       "    </tr>\n",
       "  </tbody>\n",
       "</table>\n",
       "</div>"
      ],
      "text/plain": [
       "      C\n",
       "A      \n",
       "5   700\n",
       "6   800\n",
       "7   900\n",
       "8  1000"
      ]
     },
     "execution_count": 40,
     "metadata": {},
     "output_type": "execute_result"
    }
   ],
   "source": [
    "df3.reset_index().set_index('A')[['C']]"
   ]
  },
  {
   "cell_type": "code",
   "execution_count": 37,
   "metadata": {},
   "outputs": [
    {
     "data": {
      "text/plain": [
       "A\n",
       "5     700\n",
       "6     800\n",
       "7     900\n",
       "8    1000\n",
       "Name: C, dtype: int64"
      ]
     },
     "execution_count": 37,
     "metadata": {},
     "output_type": "execute_result"
    }
   ],
   "source": [
    "df3.reset_index().set_index('A')['C']"
   ]
  },
  {
   "cell_type": "code",
   "execution_count": 66,
   "metadata": {},
   "outputs": [],
   "source": [
    "def describe_df(*datasets, n=5):\n",
    "    \"\"\"\n",
    "    This function is to assist in debugging, returning key facts about dataframe(s) concisely.\n",
    "    \"\"\"\n",
    "    for df in datasets:\n",
    "        print(f\"-----\\nShape {df.shape} \\nFirst {n} cols: {df.columns[:n]} \\nFirst {n} indices: {df.index[:n]} \\n-----\")\n",
    "    return"
   ]
  },
  {
   "cell_type": "code",
   "execution_count": 67,
   "metadata": {},
   "outputs": [
    {
     "name": "stdout",
     "output_type": "stream",
     "text": [
      "-----\n",
      "Shape (3, 2) \n",
      "First 5 cols: Index(['X', 'Y'], dtype='object') \n",
      "First 5 indices: Index(['row4', 'row5', 'row6'], dtype='object') \n",
      "-----\n"
     ]
    }
   ],
   "source": [
    "describe_df(df2)"
   ]
  },
  {
   "cell_type": "code",
   "execution_count": 61,
   "metadata": {},
   "outputs": [
    {
     "name": "stdout",
     "output_type": "stream",
     "text": [
      "----- DataFrame 1 Info -----\n",
      "Shape: (3, 2)\n",
      "First 5 columns: ['A', 'B']\n",
      "First 5 indices: ['row1', 'row2', 'row3']\n",
      "-----\n",
      "----- DataFrame 2 Info -----\n",
      "Shape: (3, 2)\n",
      "First 5 columns: ['X', 'Y']\n",
      "First 5 indices: ['row4', 'row5', 'row6']\n",
      "-----\n"
     ]
    }
   ],
   "source": [
    "import pandas as pd\n",
    "\n",
    "def report_df_info(*dataframes, n=5):\n",
    "    \"\"\"\n",
    "    Report information about an arbitrary number of dataframes.\n",
    "\n",
    "    Parameters:\n",
    "    *dataframes (pd.DataFrame): Arbitrary number of dataframes to report information about.\n",
    "    n (int): Number of columns and indices to display.\n",
    "\n",
    "    Returns:\n",
    "    None\n",
    "    \"\"\"\n",
    "    for idx, df in enumerate(dataframes, start=1):\n",
    "        print(f\"----- DataFrame {idx} Info -----\")\n",
    "        print(f\"Shape: {df.shape}\")\n",
    "        print(f\"First {n} columns: {df.columns[:n].tolist()}\")\n",
    "        print(f\"First {n} indices: {df.index[:n].tolist()}\")\n",
    "        print(\"-----\")\n",
    "\n",
    "# Example usage:\n",
    "data1 = {'A': [1, 2, 3], 'B': [4, 5, 6]}\n",
    "data2 = {'X': [7, 8, 9], 'Y': [10, 11, 12]}\n",
    "\n",
    "df1 = pd.DataFrame(data1, index=['row1', 'row2', 'row3'])\n",
    "df2 = pd.DataFrame(data2, index=['row4', 'row5', 'row6'])\n",
    "\n",
    "# Call the function to report information about the dataframes\n",
    "report_df_info(df1, df2)\n"
   ]
  },
  {
   "cell_type": "code",
   "execution_count": 73,
   "metadata": {},
   "outputs": [
    {
     "name": "stdout",
     "output_type": "stream",
     "text": [
      "----- DataFrame: df1 Info -----\n",
      "Shape: (3, 2)\n",
      "Columns: ['A', 'B']\n",
      "Indices: ['row1', 'row2', 'row3']\n",
      "-----\n",
      "----- DataFrame: DF2 Info -----\n",
      "Shape: (3, 2)\n",
      "Columns: ['X', 'Y']\n",
      "Indices: ['row4', 'row5', 'row6']\n",
      "-----\n"
     ]
    }
   ],
   "source": [
    "import pandas as pd\n",
    "\n",
    "def report_df_info_with_names(**dataframes):\n",
    "    \"\"\"\n",
    "    Report information about an arbitrary number of dataframes with names using kwargs.\n",
    "\n",
    "    Parameters:\n",
    "    **dataframes (pd.DataFrame): Arbitrary number of dataframes with names as keyword arguments.\n",
    "\n",
    "    Returns:\n",
    "    None\n",
    "    \"\"\"\n",
    "    for name, df in dataframes.items():\n",
    "        print(f\"----- DataFrame: {name} Info -----\")\n",
    "        print(f\"Shape: {df.shape}\")\n",
    "        print(f\"Columns: {df.columns.tolist()}\")\n",
    "        print(f\"Indices: {df.index.tolist()}\")\n",
    "        print(\"-----\")\n",
    "\n",
    "# Example usage:\n",
    "data1 = {'A': [1, 2, 3], 'B': [4, 5, 6]}\n",
    "data2 = {'X': [7, 8, 9], 'Y': [10, 11, 12]}\n",
    "\n",
    "df1 = pd.DataFrame(data1, index=['row1', 'row2', 'row3'])\n",
    "df2 = pd.DataFrame(data2, index=['row4', 'row5', 'row6'])\n",
    "\n",
    "# Call the function with dataframe names using kwargs\n",
    "report_df_info_with_names(df1=df1, DF2=df2)\n"
   ]
  },
  {
   "cell_type": "code",
   "execution_count": 81,
   "metadata": {},
   "outputs": [
    {
     "name": "stdout",
     "output_type": "stream",
     "text": [
      "----- DataFrame: DataFrame 1 Info -----\n",
      "Shape: (3, 2)\n",
      "First 5 columns: ['A', 'B']\n",
      "First 5 indices: ['row1', 'row2', 'row3']\n",
      "-----\n",
      "----- DataFrame: DataFrame 2 Info -----\n",
      "Shape: (3, 2)\n",
      "First 5 columns: ['X', 'Y']\n",
      "First 5 indices: ['row4', 'row5', 'row6']\n",
      "-----\n",
      "testing my setup\n",
      "----- DataFrame: Dataframe 1 Info -----\n",
      "Shape: (3, 2)\n",
      "First 5 columns: ['A', 'B']\n",
      "First 5 indices: ['row1', 'row2', 'row3']\n",
      "-----\n",
      "----- DataFrame: DF2 Info -----\n",
      "Shape: (3, 2)\n",
      "First 5 columns: ['X', 'Y']\n",
      "First 5 indices: ['row4', 'row5', 'row6']\n",
      "-----\n"
     ]
    }
   ],
   "source": [
    "import pandas as pd\n",
    "\n",
    "def report_df_info_with_names(df_dict, n=5):\n",
    "    \"\"\"\n",
    "    Report information about dataframes with names provided in a dictionary.\n",
    "\n",
    "    Parameters:\n",
    "    df_dict (dict): A dictionary where keys are names and values are dataframes.\n",
    "    n (int): Number of columns and indices to display.\n",
    "\n",
    "    Returns:\n",
    "    None\n",
    "    \"\"\"\n",
    "    for name, df in df_dict.items():\n",
    "        print(f\"----- DataFrame: {name} Info -----\")\n",
    "        print(f\"Shape: {df.shape}\")\n",
    "        print(f\"First {n} columns: {df.columns[:n].tolist()}\")\n",
    "        print(f\"First {n} indices: {df.index[:n].tolist()}\")\n",
    "        print(\"-----\")\n",
    "\n",
    "# Example usage:\n",
    "data1 = {'A': [1, 2, 3], 'B': [4, 5, 6]}\n",
    "data2 = {'X': [7, 8, 9], 'Y': [10, 11, 12]}\n",
    "\n",
    "df1 = pd.DataFrame(data1, index=['row1', 'row2', 'row3'])\n",
    "df2 = pd.DataFrame(data2, index=['row4', 'row5', 'row6'])\n",
    "\n",
    "# Create a dictionary with dataframe names\n",
    "dataframes_dict = {\"DataFrame 1\": df1, \"DataFrame 2\": df2}\n",
    "\n",
    "# Call the function with the dictionary of dataframes\n",
    "report_df_info_with_names(dataframes_dict)\n",
    "\n",
    "# alternatively,\n",
    "names = ['Dataframe 1', 'DF2']\n",
    "dfs = [df1, df2]\n",
    "report_df_info_with_names(dict(zip(names, dfs)))"
   ]
  },
  {
   "cell_type": "code",
   "execution_count": 76,
   "metadata": {},
   "outputs": [
    {
     "data": {
      "text/plain": [
       "[('test',\n",
       "        A  B\n",
       "  row1  1  4\n",
       "  row2  2  5\n",
       "  row3  3  6),\n",
       " ('b',\n",
       "        X   Y\n",
       "  row4  7  10\n",
       "  row5  8  11\n",
       "  row6  9  12)]"
      ]
     },
     "execution_count": 76,
     "metadata": {},
     "output_type": "execute_result"
    }
   ],
   "source": [
    "list(zip(names, dfs))"
   ]
  },
  {
   "cell_type": "code",
   "execution_count": 92,
   "metadata": {},
   "outputs": [
    {
     "name": "stderr",
     "output_type": "stream",
     "text": [
      "INFO:root:----- DataFrame: DataFrame 1 Info -----\n",
      "Shape: (3, 2)\n",
      "First 5 columns: ['A', 'B']\n",
      "First 5 indices: ['row1', 'row2', 'row3']\n",
      "-----\n",
      "----- DataFrame: DataFrame 2 Info -----\n",
      "Shape: (3, 2)\n",
      "First 5 columns: ['X', 'Y']\n",
      "First 5 indices: ['row4', 'row5', 'row6']\n",
      "-----\n",
      "INFO:root:print\n"
     ]
    }
   ],
   "source": [
    "import pandas as pd\n",
    "import logging\n",
    "\n",
    "# Configure the logging module\n",
    "logging.basicConfig(\n",
    ")\n",
    "logger = logging.getLogger()\n",
    "logger.setLevel(logging.INFO)\n",
    "\n",
    "def report_df_info_with_names(*args, n=5):\n",
    "    \"\"\"\n",
    "    Report information about dataframes with names provided as positional arguments.\n",
    "\n",
    "    Parameters:\n",
    "    *args (pd.DataFrame): Arbitrary number of dataframes.\n",
    "    n (int): Number of columns and indices to display.\n",
    "\n",
    "    Returns:\n",
    "    str: Formatted information about dataframes.\n",
    "    \"\"\"\n",
    "    info_list = []\n",
    "    for idx, df in enumerate(args, start=1):\n",
    "        name = f\"DataFrame {idx}\"\n",
    "        info_list.append(f\"----- DataFrame: {name} Info -----\")\n",
    "        info_list.append(f\"Shape: {df.shape}\")\n",
    "        info_list.append(f\"First {n} columns: {df.columns[:n].tolist()}\")\n",
    "        info_list.append(f\"First {n} indices: {df.index[:n].tolist()}\")\n",
    "        info_list.append(\"-----\")\n",
    "    \n",
    "    # Combine the information into a single string\n",
    "    info_str = '\\n'.join(info_list)\n",
    "    return info_str\n",
    "\n",
    "# Example usage:\n",
    "data1 = {'A': [1, 2, 3], 'B': [4, 5, 6]}\n",
    "data2 = {'X': [7, 8, 9], 'Y': [10, 11, 12]}\n",
    "\n",
    "df1 = pd.DataFrame(data1, index=['row1', 'row2', 'row3'])\n",
    "df2 = pd.DataFrame(data2, index=['row4', 'row5', 'row6'])\n",
    "\n",
    "# Log the information using logging.info()\n",
    "logging.info(report_df_info_with_names(df1, df2))\n",
    "logging.info(\"print\")\n"
   ]
  },
  {
   "cell_type": "code",
   "execution_count": null,
   "metadata": {},
   "outputs": [],
   "source": []
  },
  {
   "cell_type": "code",
   "execution_count": null,
   "metadata": {},
   "outputs": [],
   "source": []
  }
 ],
 "metadata": {
  "kernelspec": {
   "display_name": "Python 3",
   "language": "python",
   "name": "python3"
  },
  "language_info": {
   "codemirror_mode": {
    "name": "ipython",
    "version": 3
   },
   "file_extension": ".py",
   "mimetype": "text/x-python",
   "name": "python",
   "nbconvert_exporter": "python",
   "pygments_lexer": "ipython3",
   "version": "3.10.10"
  },
  "orig_nbformat": 4
 },
 "nbformat": 4,
 "nbformat_minor": 2
}
