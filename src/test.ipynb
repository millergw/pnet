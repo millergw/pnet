{
 "cells": [
  {
   "cell_type": "code",
   "execution_count": 3,
   "metadata": {},
   "outputs": [
    {
     "name": "stdout",
     "output_type": "stream",
     "text": [
      "The autoreload extension is already loaded. To reload it, use:\n",
      "  %reload_ext autoreload\n"
     ]
    }
   ],
   "source": [
    "import report_and_eval\n",
    "import matplotlib.pyplot as plt\n",
    "import numpy as np\n",
    "%load_ext autoreload\n",
    "%autoreload 2"
   ]
  },
  {
   "cell_type": "code",
   "execution_count": 5,
   "metadata": {},
   "outputs": [
    {
     "name": "stderr",
     "output_type": "stream",
     "text": [
      "2023-11-06 17:39:18 INFO     saving plot to to_delete\n"
     ]
    },
    {
     "data": {
      "image/png": "[encoded data removed]",
      "text/plain": [
       "<Figure size 640x480 with 1 Axes>"
      ]
     },
     "metadata": {},
     "output_type": "display_data"
    }
   ],
   "source": [
    "# Sample data (replace this with your own data)\n",
    "data = np.random.randn(1000)  # Generating random data for the example\n",
    "\n",
    "# Create a histogram\n",
    "plt.hist(data, bins=20, color='blue', edgecolor='black')\n",
    "plt.title('Histogram Example')\n",
    "plt.xlabel('X-Axis Label')\n",
    "plt.ylabel('Frequency')\n",
    "\n",
    "\n",
    "\n",
    "report_and_eval.savefig(save_path=\"to_delete\", png=True, pdf=True)\n",
    "\n",
    "# Show the histogram\n",
    "plt.show()"
   ]
  },
  {
   "cell_type": "code",
   "execution_count": null,
   "metadata": {},
   "outputs": [],
   "source": [
    "import pandas as pd\n",
    "\n",
    "# Sample DataFrame\n",
    "data = {\n",
    "    'ID': [1, 2, 3, 4, 5],\n",
    "    'Name': ['Alice', 'Bob', 'Charlie', 'David', 'Eve'],\n",
    "    'Age': [25, 30, 22, 35, 28]\n",
    "}\n",
    "\n",
    "sample_metadata = pd.DataFrame(data)\n",
    "\n",
    "# Columns to include\n",
    "cols_to_include = ['Name', 'Age']\n",
    "\n",
    "# Column to use as the index\n",
    "id_to_use = 'ID'\n",
    "\n",
    "# Set the index and filter columns\n",
    "additional_data = sample_metadata.set_index(id_to_use)[cols_to_include]\n",
    "\n",
    "# additional_data = sample_metadata.set_index(id_to_use).loc[:, cols_to_include]\n",
    "\n",
    "print(additional_data)\n"
   ]
  },
  {
   "cell_type": "code",
   "execution_count": 1,
   "metadata": {},
   "outputs": [
    {
     "name": "stdout",
     "output_type": "stream",
     "text": [
      "Saving dictionary of train set metrics to to_delete/train_performance_metrics.json\n",
      "Loaded metrics for train: {'accuracy': 0.85, 'loss': 0.1}\n"
     ]
    }
   ],
   "source": [
    "import json\n",
    "import os\n",
    "\n",
    "# Function to save a dictionary to a JSON file\n",
    "def save_dict_to_json(save_dir, who, metric_dict):\n",
    "    if save_dir is not None:\n",
    "        if not os.path.exists(save_dir):\n",
    "            os.makedirs(save_dir)\n",
    "\n",
    "        p = os.path.join(save_dir, f'{who}_performance_metrics.json')\n",
    "        print(f\"Saving dictionary of {who} set metrics to {p}\")\n",
    "        with open(p, 'w') as json_file:\n",
    "            json.dump(metric_dict, json_file)\n",
    "\n",
    "# Function to load a dictionary from a JSON file\n",
    "def load_dict_from_json(file_path):\n",
    "    with open(file_path, 'r') as json_file:\n",
    "        loaded_dict = json.load(json_file)\n",
    "        return loaded_dict\n",
    "\n",
    "# Example usage to save a dictionary to JSON\n",
    "save_dir = 'to_delete'  # Ensure this directory exists\n",
    "who = 'train'\n",
    "metric_dict = {'accuracy': 0.85, 'loss': 0.1}\n",
    "save_dict_to_json(save_dir, who, metric_dict)\n",
    "\n",
    "# Example usage to load and print the saved JSON file\n",
    "loaded_metrics = load_dict_from_json(os.path.join(save_dir, f'{who}_performance_metrics.json'))\n",
    "print(f\"Loaded metrics for {who}: {loaded_metrics}\")\n"
   ]
  },
  {
   "cell_type": "code",
   "execution_count": null,
   "metadata": {},
   "outputs": [],
   "source": []
  }
 ],
 "metadata": {
  "kernelspec": {
   "display_name": "Python 3",
   "language": "python",
   "name": "python3"
  },
  "language_info": {
   "codemirror_mode": {
    "name": "ipython",
    "version": 3
   },
   "file_extension": ".py",
   "mimetype": "text/x-python",
   "name": "python",
   "nbconvert_exporter": "python",
   "pygments_lexer": "ipython3",
   "version": "3.9.7"
  },
  "orig_nbformat": 4
 },
 "nbformat": 4,
 "nbformat_minor": 2
}
