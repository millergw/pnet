{
 "cells": [
  {
   "cell_type": "code",
   "execution_count": 1,
   "metadata": {},
   "outputs": [],
   "source": [
    "import os\n",
    "import pandas as pd\n",
    "import numpy as np\n",
    "import pickle\n",
    "import matplotlib.pyplot as plt\n",
    "import logging\n",
    "logging.basicConfig(\n",
    "            format='%(asctime)s %(levelname)-8s %(message)s',\n",
    "            level=logging.INFO,\n",
    "            datefmt='%Y-%m-%d %H:%M:%S')\n",
    "\n",
    "logger = logging.getLogger()\n",
    "logger.setLevel(logging.INFO)\n",
    "\n",
    "%load_ext autoreload\n",
    "%autoreload 2"
   ]
  },
  {
   "cell_type": "code",
   "execution_count": 5,
   "metadata": {},
   "outputs": [],
   "source": [
    "def get_sklearn_gene_imps(dir):\n",
    "    # TODO: read in from W&B?\n",
    "    pass\n",
    "\n",
    "def get_pnet_gene_imps(dir):\n",
    "    # Read gene_imps from a Pickle file (format: len 20 list --> pandas DFs, samples x genes?)\n",
    "    with open(os.path.join(dir, 'gene_imps.pkl'), 'rb') as file:\n",
    "        gene_imps = pickle.load(file)\n",
    "\n",
    "    # # Read layerwise_imps from a Pickle file (format: len 20 list --> len 5 list --> pandas DF, samples x features)\n",
    "    # with open(os.path.join(dir, 'layerwise_imps.pkl'), 'rb') as file:\n",
    "    #     layerwise_imps = pickle.load(file)\n",
    "\n",
    "    # print(gene_imps[0].shape)\n",
    "    # for i in range(5):\n",
    "    #     print(layerwise_imps[0][i].shape)\n",
    "    return gene_imps\n",
    "\n",
    "def make_pnet_gene_ranking_df(gene_imps, index):\n",
    "    \"\"\"\n",
    "    For a given sample (aka index / patient), pull the gene rankings from each of the runs (dfs) in gene_imps.\n",
    "\n",
    "    Inputs:\n",
    "    - gene_imps: a list of DFs. \n",
    "        len(gene_imps) = number of model runs. \n",
    "        gene_imps.shape = patients x genes.\n",
    "    \"\"\"\n",
    "    logging.debug(\"Formatting data\")\n",
    "    # Extract the first row from each DataFrame\n",
    "    first_rows = [df.iloc[index] for df in gene_imps]\n",
    "\n",
    "    # Create a DataFrame with the first rows\n",
    "    first_rows_df = pd.DataFrame(first_rows)\n",
    "\n",
    "    # Create a DataFrame with rankings for each gene in each row\n",
    "    rankings_df = first_rows_df.apply(lambda row: row.abs().rank(ascending=False), axis=1)\n",
    "    return rankings_df\n",
    "\n",
    "\n",
    "def calc_perpatient_stability_metric(gene_imps):\n",
    "    logging.info(\"Calculating patient-level stability metric\")\n",
    "    stabs = []\n",
    "    for patient_i in range(gene_imps[0].shape[0]):\n",
    "        rankings_df = make_pnet_gene_ranking_df(gene_imps, patient_i)\n",
    "        # Compute the average and standard deviation across rows\n",
    "        average_across_rows = rankings_df.mean(axis=0)\n",
    "        std_across_rows = rankings_df.std(axis=0)\n",
    "\n",
    "        # Create a new DataFrame with averages and standard deviations\n",
    "        summary_df = pd.DataFrame({\n",
    "            'Average Across Rows': average_across_rows,\n",
    "            'Std Dev Across Rows': std_across_rows\n",
    "        })\n",
    "        summary_df = summary_df.sort_values(by='Average Across Rows', ascending=True)\n",
    "\n",
    "        filtered_to_imp = summary_df[summary_df['Average Across Rows']<50]\n",
    "        stability_metric = filtered_to_imp['Std Dev Across Rows'].median()\n",
    "        stabs.append(stability_metric)\n",
    "    return stabs\n"
   ]
  },
  {
   "cell_type": "code",
   "execution_count": 7,
   "metadata": {},
   "outputs": [
    {
     "name": "stderr",
     "output_type": "stream",
     "text": [
      "2024-01-12 14:52:56 INFO     Calculating patient-level stability metric\n",
      "2024-01-12 14:53:03 INFO     Plotting histogram of patient-level stability metric\n"
     ]
    },
    {
     "data": {
      "image/png": "[encoded data removed]",
      "text/plain": [
       "<Figure size 640x480 with 1 Axes>"
      ]
     },
     "metadata": {},
     "output_type": "display_data"
    }
   ],
   "source": [
    "SAVEDIR = '../../pnet/results/gene_rank_stability' # Gwen's (before Mark improved stability)\n",
    "\n",
    "pnet_gene_imps = get_pnet_gene_imps(SAVEDIR)\n",
    "pnet_patient_stabs = calc_perpatient_stability_metric(pnet_gene_imps)\n",
    "\n",
    "logging.info(\"Plotting histogram of patient-level stability metric\")\n",
    "# median stdev of top 50 genes (top 50 relative to each patient). \n",
    "# Pretty darn unstable. \n",
    "# For example, a gene at rank 50 with a stdev of 50 means that 68% of the time, its rank was between 0 and 100.\n",
    "plt.hist(pnet_patient_stabs)\n",
    "plt.show()"
   ]
  },
  {
   "cell_type": "code",
   "execution_count": 8,
   "metadata": {},
   "outputs": [
    {
     "name": "stderr",
     "output_type": "stream",
     "text": [
      "2024-01-12 14:53:04 INFO     Calculating patient-level stability metric\n"
     ]
    },
    {
     "name": "stderr",
     "output_type": "stream",
     "text": [
      "2024-01-12 14:53:14 INFO     Plotting histogram of patient-level stability metric\n"
     ]
    },
    {
     "data": {
      "image/png": "[encoded data removed]",
      "text/plain": [
       "<Figure size 640x480 with 1 Axes>"
      ]
     },
     "metadata": {},
     "output_type": "display_data"
    }
   ],
   "source": [
    "SAVEDIR = '../../pnet/results/gene_rank_stability_v2' # Gwen's (after Mark improved stability)\n",
    "\n",
    "pnet_gene_imps = get_pnet_gene_imps(SAVEDIR)\n",
    "pnet_patient_stabs = calc_perpatient_stability_metric(pnet_gene_imps)\n",
    "\n",
    "logging.info(\"Plotting histogram of patient-level stability metric\")\n",
    "# median stdev of top 50 genes (top 50 relative to each patient). \n",
    "# Pretty darn unstable. \n",
    "# For example, a gene at rank 50 with a stdev of 50 means that 68% of the time, its rank was between 0 and 100.\n",
    "plt.hist(pnet_patient_stabs)\n",
    "plt.show()"
   ]
  },
  {
   "cell_type": "code",
   "execution_count": null,
   "metadata": {},
   "outputs": [],
   "source": [
    "MODEL_TYPE = \"rf\"\n",
    "EVAL_SET = 'test' # val\n",
    "SAVEDIR = f'../../pnet/results/somatic_{MODEL_TYPE}_eval_set_{EVAL_SET}' # Gwen's\n",
    "\n",
    "rf_gene_imps = get_sklearn_gene_imps(SAVEDIR)\n",
    "rf_patient_stabs = calc_perpatient_stability_metric(rf_gene_imps)\n",
    "\n",
    "logging.info(\"Plotting histogram of patient-level stability metric\")\n",
    "# median stdev of top 50 genes (top 50 relative to each patient). \n",
    "# Pretty darn unstable. \n",
    "# For example, a gene at rank 50 with a stdev of 50 means that 68% of the time, its rank was between 0 and 100.\n",
    "plt.hist(rf_patient_stabs)\n",
    "plt.show()"
   ]
  },
  {
   "cell_type": "code",
   "execution_count": null,
   "metadata": {},
   "outputs": [],
   "source": [
    "MODEL_TYPE = \"bdt\"\n",
    "EVAL_SET = 'test' # val\n",
    "SAVEDIR = f'../../pnet/results/somatic_{MODEL_TYPE}_eval_set_{EVAL_SET}' # Gwen's\n",
    "\n",
    "bdt_gene_imps = get_sklearn_gene_imps(SAVEDIR)\n",
    "bdt_patient_stabs = calc_perpatient_stability_metric(bdt_gene_imps)\n",
    "\n",
    "logging.info(\"Plotting histogram of patient-level stability metric\")\n",
    "# median stdev of top 50 genes (top 50 relative to each patient). \n",
    "# Pretty darn unstable. \n",
    "# For example, a gene at rank 50 with a stdev of 50 means that 68% of the time, its rank was between 0 and 100.\n",
    "plt.hist(bdt_patient_stabs)\n",
    "plt.show()"
   ]
  }
 ],
 "metadata": {
  "kernelspec": {
   "display_name": "pnet",
   "language": "python",
   "name": "python3"
  },
  "language_info": {
   "codemirror_mode": {
    "name": "ipython",
    "version": 3
   },
   "file_extension": ".py",
   "mimetype": "text/x-python",
   "name": "python",
   "nbconvert_exporter": "python",
   "pygments_lexer": "ipython3",
   "version": "3.9.7"
  }
 },
 "nbformat": 4,
 "nbformat_minor": 2
}
